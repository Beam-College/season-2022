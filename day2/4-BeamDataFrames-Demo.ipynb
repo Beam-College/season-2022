{
 "cells": [
  {
   "cell_type": "markdown",
   "id": "fd204b5a-08d1-4256-bf14-74e64ba0f34e",
   "metadata": {},
   "source": [
    "# Experiment with the pipeline using a sampled dataset"
   ]
  },
  {
   "cell_type": "code",
   "execution_count": 1,
   "id": "04260ecd-ece8-4b6c-a201-44fb1eebcee7",
   "metadata": {},
   "outputs": [],
   "source": [
    "import os\n",
    "\n",
    "import apache_beam as beam\n",
    "import apache_beam.runners.interactive.interactive_beam as ib\n",
    "\n",
    "from apache_beam.runners.interactive.interactive_runner import InteractiveRunner\n",
    "from apache_beam.runners.dataflow import DataflowRunner"
   ]
  },
  {
   "cell_type": "code",
   "execution_count": 2,
   "id": "a82eb1ef-53c0-4187-bc9b-e880e1c42ed2",
   "metadata": {},
   "outputs": [
    {
     "name": "stdout",
     "output_type": "stream",
     "text": [
      "/bin/bash: /opt/conda/lib/libtinfo.so.6: no version information available (required by /bin/bash)\n",
      "VendorID,tpep_pickup_datetime,tpep_dropoff_datetime,passenger_count,trip_distance,RatecodeID,store_and_fwd_flag,PULocationID,DOLocationID,payment_type,fare_amount,extra,mta_tax,tip_amount,tolls_amount,improvement_surcharge,total_amount\n",
      "\n",
      "1,2018-01-01 00:21:05,2018-01-01 00:24:23,1,.50,1,N,41,24,2,4.5,0.5,0.5,0,0,0.3,5.8\n",
      "1,2018-01-01 00:44:55,2018-01-01 01:03:05,1,2.70,1,N,239,140,2,14,0.5,0.5,0,0,0.3,15.3\n",
      "1,2018-01-01 00:08:26,2018-01-01 00:14:21,2,.80,1,N,262,141,1,6,0.5,0.5,1,0,0.3,8.3\n",
      "1,2018-01-01 00:20:22,2018-01-01 00:52:51,1,10.20,1,N,140,257,2,33.5,0.5,0.5,0,0,0.3,34.8\n",
      "1,2018-01-01 00:09:18,2018-01-01 00:27:06,2,2.50,1,N,246,239,1,12.5,0.5,0.5,2.75,0,0.3,16.55\n",
      "1,2018-01-01 00:29:29,2018-01-01 00:32:48,3,.50,1,N,143,143,2,4.5,0.5,0.5,0,0,0.3,5.8\n",
      "1,2018-01-01 00:38:08,2018-01-01 00:48:24,2,1.70,1,N,50,239,1,9,0.5,0.5,2.05,0,0.3,12.35\n",
      "1,2018-01-01 00:49:29,2018-01-01 00:51:53,1,.70,1,N,239,238,1,4,0.5,0.5,1,0,0.3,6.3\n"
     ]
    }
   ],
   "source": [
    "!gsutil cat gs://apache-beam-samples/nyc_taxi/misc/sample10000.csv | head -n 10"
   ]
  },
  {
   "cell_type": "code",
   "execution_count": 3,
   "id": "dd5cf703-b96c-43ac-a8f3-931d68040466",
   "metadata": {},
   "outputs": [],
   "source": [
    "p = beam.Pipeline(InteractiveRunner())"
   ]
  },
  {
   "cell_type": "code",
   "execution_count": 4,
   "id": "5c0918a3-6255-47ae-8ff4-b17294b25fee",
   "metadata": {},
   "outputs": [],
   "source": [
    "bdf = p | beam.dataframe.io.read_csv('gs://apache-beam-samples/nyc_taxi/misc/sample100000.csv',\n",
    "                                     parse_dates=['tpep_pickup_datetime', 'tpep_dropoff_datetime'],\n",
    "                                     splittable=True)"
   ]
  },
  {
   "cell_type": "markdown",
   "id": "d837ca80-f736-4b7f-803f-63df9ecc620f",
   "metadata": {},
   "source": [
    "Beam's `read_csv()` peeks at the input data so we know what the column names and types are while constructing the pipeline:"
   ]
  },
  {
   "cell_type": "code",
   "execution_count": 6,
   "id": "de647f9b-2899-4a45-8f92-6720e7f75518",
   "metadata": {},
   "outputs": [
    {
     "data": {
      "text/plain": [
       "VendorID                          int64\n",
       "tpep_pickup_datetime     datetime64[ns]\n",
       "tpep_dropoff_datetime    datetime64[ns]\n",
       "passenger_count                   int64\n",
       "trip_distance                   float64\n",
       "RatecodeID                        int64\n",
       "store_and_fwd_flag               object\n",
       "PULocationID                      int64\n",
       "DOLocationID                      int64\n",
       "payment_type                      int64\n",
       "fare_amount                     float64\n",
       "extra                           float64\n",
       "mta_tax                         float64\n",
       "tip_amount                      float64\n",
       "tolls_amount                    float64\n",
       "improvement_surcharge           float64\n",
       "total_amount                    float64\n",
       "dtype: object"
      ]
     },
     "execution_count": 6,
     "metadata": {},
     "output_type": "execute_result"
    }
   ],
   "source": [
    "bdf.dtypes"
   ]
  },
  {
   "cell_type": "markdown",
   "id": "1de26837-76b7-436a-bb3f-4a9c44ae8108",
   "metadata": {},
   "source": [
    "Similarly, when you perform some computation (like aggregating the number of passengers picked up by hour of day), Beam keeps track of the name and types of columns so it knows what operations are valid."
   ]
  },
  {
   "cell_type": "code",
   "execution_count": 7,
   "id": "3c4ccbf4-d856-406e-b1a2-8caee3b88fd5",
   "metadata": {},
   "outputs": [
    {
     "data": {
      "text/plain": [
       "DeferredSeries(name='passenger_count', dtype=int64, index='tpep_pickup_datetime')"
      ]
     },
     "execution_count": 7,
     "metadata": {},
     "output_type": "execute_result"
    }
   ],
   "source": [
    "passengers_by_pickup_hour = bdf.passenger_count.groupby(bdf.tpep_pickup_datetime.dt.hour).sum()\n",
    "passengers_by_pickup_hour"
   ]
  },
  {
   "cell_type": "markdown",
   "id": "92e59b45-3e01-4ca8-a94d-4008a59c1452",
   "metadata": {},
   "source": [
    "We can use `ib.collect()` to trigger execution and bring the result back into the notebook kernel's memory as a concrete pandas object:"
   ]
  },
  {
   "cell_type": "code",
   "execution_count": 8,
   "id": "840e3425-546a-4958-85e0-407fb51be6fe",
   "metadata": {},
   "outputs": [
    {
     "data": {
      "text/html": [
       "\n",
       "            <link rel=\"stylesheet\" href=\"https://stackpath.bootstrapcdn.com/bootstrap/4.4.1/css/bootstrap.min.css\" integrity=\"sha384-Vkoo8x4CGsO3+Hhxv8T/Q5PaXtkKtu6ug5TOeNV6gBiFeWPGFN9MuhOf23Q9Ifjh\" crossorigin=\"anonymous\">\n",
       "            <div id=\"progress_indicator_35c0fcb053d92bd6e71b27e53501bdaa\" class=\"spinner-border text-info\" role=\"status\">\n",
       "            </div>"
      ],
      "text/plain": [
       "<IPython.core.display.HTML object>"
      ]
     },
     "metadata": {},
     "output_type": "display_data"
    },
    {
     "name": "stderr",
     "output_type": "stream",
     "text": [
      "WARNING:root:Make sure that locally built Python SDK docker image has Python 3.7 interpreter.\n"
     ]
    },
    {
     "data": {
      "application/javascript": [
       "\n",
       "        if (typeof window.interactive_beam_jquery == 'undefined') {\n",
       "          var jqueryScript = document.createElement('script');\n",
       "          jqueryScript.src = 'https://code.jquery.com/jquery-3.4.1.slim.min.js';\n",
       "          jqueryScript.type = 'text/javascript';\n",
       "          jqueryScript.onload = function() {\n",
       "            var datatableScript = document.createElement('script');\n",
       "            datatableScript.src = 'https://cdn.datatables.net/1.10.20/js/jquery.dataTables.min.js';\n",
       "            datatableScript.type = 'text/javascript';\n",
       "            datatableScript.onload = function() {\n",
       "              window.interactive_beam_jquery = jQuery.noConflict(true);\n",
       "              window.interactive_beam_jquery(document).ready(function($){\n",
       "                \n",
       "            $(\"#progress_indicator_35c0fcb053d92bd6e71b27e53501bdaa\").remove();\n",
       "              });\n",
       "            }\n",
       "            document.head.appendChild(datatableScript);\n",
       "          };\n",
       "          document.head.appendChild(jqueryScript);\n",
       "        } else {\n",
       "          window.interactive_beam_jquery(document).ready(function($){\n",
       "            \n",
       "            $(\"#progress_indicator_35c0fcb053d92bd6e71b27e53501bdaa\").remove();\n",
       "          });\n",
       "        }"
      ]
     },
     "metadata": {},
     "output_type": "display_data"
    },
    {
     "data": {
      "text/plain": [
       "tpep_pickup_datetime\n",
       "0     28630\n",
       "1     32778\n",
       "2     27964\n",
       "3     21240\n",
       "4     14822\n",
       "5      7109\n",
       "6      5423\n",
       "7      5481\n",
       "8      5886\n",
       "9      8094\n",
       "10    11460\n",
       "11      168\n",
       "12        8\n",
       "16       27\n",
       "17       57\n",
       "18       28\n",
       "19        6\n",
       "20       19\n",
       "21       99\n",
       "22       44\n",
       "23      199\n",
       "Name: passenger_count, dtype: int64"
      ]
     },
     "execution_count": 8,
     "metadata": {},
     "output_type": "execute_result"
    }
   ],
   "source": [
    "ib.collect(passengers_by_pickup_hour).sort_index()"
   ]
  },
  {
   "cell_type": "markdown",
   "id": "ee90d1a8-c40e-4ea3-b7a0-7ac542961bc2",
   "metadata": {},
   "source": [
    "Most of the pandas API is available to you in the Beam DataFrame API, and you can compose operations as you would with pandas. For example, we can compute the tip ratio for each ride, then aggregate that by the time of day to look for a correlation:"
   ]
  },
  {
   "cell_type": "code",
   "execution_count": 9,
   "id": "95953d09-6f79-4b99-910d-08e47c9eb2f8",
   "metadata": {},
   "outputs": [
    {
     "data": {
      "text/plain": [
       "DeferredSeries(name='tip_ratio', dtype=float64, index='tpep_pickup_datetime')"
      ]
     },
     "execution_count": 9,
     "metadata": {},
     "output_type": "execute_result"
    }
   ],
   "source": [
    "tip_ratio = bdf.tip_amount/bdf.total_amount\n",
    "tip_ratio.name = \"tip_ratio\"\n",
    "tip_ratio_by_pickup_hour = tip_ratio.groupby(bdf.tpep_pickup_datetime.dt.hour).mean()\n",
    "tip_ratio_by_pickup_hour"
   ]
  },
  {
   "cell_type": "code",
   "execution_count": 10,
   "id": "c6fc6e97-34ca-4e58-9bce-65c002110784",
   "metadata": {},
   "outputs": [
    {
     "data": {
      "text/html": [
       "\n",
       "            <link rel=\"stylesheet\" href=\"https://stackpath.bootstrapcdn.com/bootstrap/4.4.1/css/bootstrap.min.css\" integrity=\"sha384-Vkoo8x4CGsO3+Hhxv8T/Q5PaXtkKtu6ug5TOeNV6gBiFeWPGFN9MuhOf23Q9Ifjh\" crossorigin=\"anonymous\">\n",
       "            <div id=\"progress_indicator_b533bc372d0f94e5b022a79fc12af1ff\" class=\"spinner-border text-info\" role=\"status\">\n",
       "            </div>"
      ],
      "text/plain": [
       "<IPython.core.display.HTML object>"
      ]
     },
     "metadata": {},
     "output_type": "display_data"
    },
    {
     "name": "stderr",
     "output_type": "stream",
     "text": [
      "WARNING:root:Make sure that locally built Python SDK docker image has Python 3.7 interpreter.\n"
     ]
    },
    {
     "data": {
      "application/javascript": [
       "\n",
       "        if (typeof window.interactive_beam_jquery == 'undefined') {\n",
       "          var jqueryScript = document.createElement('script');\n",
       "          jqueryScript.src = 'https://code.jquery.com/jquery-3.4.1.slim.min.js';\n",
       "          jqueryScript.type = 'text/javascript';\n",
       "          jqueryScript.onload = function() {\n",
       "            var datatableScript = document.createElement('script');\n",
       "            datatableScript.src = 'https://cdn.datatables.net/1.10.20/js/jquery.dataTables.min.js';\n",
       "            datatableScript.type = 'text/javascript';\n",
       "            datatableScript.onload = function() {\n",
       "              window.interactive_beam_jquery = jQuery.noConflict(true);\n",
       "              window.interactive_beam_jquery(document).ready(function($){\n",
       "                \n",
       "            $(\"#progress_indicator_b533bc372d0f94e5b022a79fc12af1ff\").remove();\n",
       "              });\n",
       "            }\n",
       "            document.head.appendChild(datatableScript);\n",
       "          };\n",
       "          document.head.appendChild(jqueryScript);\n",
       "        } else {\n",
       "          window.interactive_beam_jquery(document).ready(function($){\n",
       "            \n",
       "            $(\"#progress_indicator_b533bc372d0f94e5b022a79fc12af1ff\").remove();\n",
       "          });\n",
       "        }"
      ]
     },
     "metadata": {},
     "output_type": "display_data"
    },
    {
     "data": {
      "text/plain": [
       "tpep_pickup_datetime\n",
       "0     0.094983\n",
       "1     0.099037\n",
       "2     0.098171\n",
       "3     0.094328\n",
       "4     0.083468\n",
       "5     0.075163\n",
       "6     0.074074\n",
       "7     0.080311\n",
       "8     0.083549\n",
       "9     0.084707\n",
       "10    0.086747\n",
       "11    0.096448\n",
       "12    0.081391\n",
       "16    0.093374\n",
       "17    0.118248\n",
       "18    0.049625\n",
       "19    0.147057\n",
       "20    0.105457\n",
       "21    0.097772\n",
       "22    0.059851\n",
       "23    0.086627\n",
       "Name: tip_ratio, dtype: float64"
      ]
     },
     "execution_count": 10,
     "metadata": {},
     "output_type": "execute_result"
    }
   ],
   "source": [
    "result = ib.collect(tip_ratio_by_pickup_hour).sort_index()\n",
    "result"
   ]
  },
  {
   "cell_type": "code",
   "execution_count": 11,
   "id": "97d29288-0f20-46e9-8b51-76a45245cfbd",
   "metadata": {},
   "outputs": [
    {
     "data": {
      "image/png": "[encoded data removed]",
      "text/plain": [
       "<Figure size 432x288 with 1 Axes>"
      ]
     },
     "metadata": {
      "needs_background": "light"
     },
     "output_type": "display_data"
    }
   ],
   "source": [
    "fig = result.plot()"
   ]
  },
  {
   "cell_type": "markdown",
   "id": "0282aba5-e8b4-47d1-9b96-77c7e5e403b8",
   "metadata": {},
   "source": [
    "It looks like we don't have enough data here to really see a trend. There might be a trend based on the morning hours, but it seems the data is too noisy in the afternoon.\n",
    "\n",
    "Let's scale this up!"
   ]
  },
  {
   "cell_type": "markdown",
   "id": "f2acb009-de92-434d-b064-c140ef6330e7",
   "metadata": {
    "tags": []
   },
   "source": [
    "# Process the full dataset with a distributed runner"
   ]
  },
  {
   "cell_type": "markdown",
   "id": "caa3c95f-d1f8-473f-a13a-f5cef7fe53e5",
   "metadata": {},
   "source": [
    "Now that we've prototyped some analytics interactively, we can scale up the same code by switching to a distributed runner."
   ]
  },
  {
   "cell_type": "code",
   "execution_count": 12,
   "id": "09b47c67-5feb-4cca-b761-0b35a5d2f07e",
   "metadata": {},
   "outputs": [],
   "source": [
    "PROJECT_ID = \"<my-gcp-project>\"\n",
    "REGION = \"us-west1\"\n",
    "TEMP_DIR = \"gs://<my-bucket>/tmp\"\n",
    "OUTPUT_DIR = \"gs://<my-bucket>/dataframe-result\""
   ]
  },
  {
   "cell_type": "code",
   "execution_count": 13,
   "id": "fbf983ef-f70a-40b0-a026-f829b169a2a3",
   "metadata": {},
   "outputs": [],
   "source": [
    "# Build a new pipeline that will execute on Dataflow.\n",
    "p = beam.Pipeline(DataflowRunner(),\n",
    "                  options=beam.options.pipeline_options.PipelineOptions(\n",
    "                      project=PROJECT_ID,\n",
    "                      region=REGION,\n",
    "                      temp_location=TEMP_DIR,\n",
    "                      # Disable autoscaling for a quicker demo\n",
    "                      autoscaling_algorithm='NONE',\n",
    "                      num_workers=10))"
   ]
  },
  {
   "cell_type": "code",
   "execution_count": 14,
   "id": "26dce55c-b1be-4a50-9dcb-da77d4203af9",
   "metadata": {},
   "outputs": [
    {
     "name": "stdout",
     "output_type": "stream",
     "text": [
      "/bin/bash: /opt/conda/lib/libtinfo.so.6: no version information available (required by /bin/bash)\n",
      "gs://apache-beam-samples/nyc_taxi/2018/yellow_tripdata_2018-01.csv\n",
      "gs://apache-beam-samples/nyc_taxi/2018/yellow_tripdata_2018-02.csv\n",
      "gs://apache-beam-samples/nyc_taxi/2018/yellow_tripdata_2018-03.csv\n",
      "gs://apache-beam-samples/nyc_taxi/2018/yellow_tripdata_2018-04.csv\n",
      "gs://apache-beam-samples/nyc_taxi/2018/yellow_tripdata_2018-05.csv\n",
      "gs://apache-beam-samples/nyc_taxi/2018/yellow_tripdata_2018-06.csv\n",
      "gs://apache-beam-samples/nyc_taxi/2018/yellow_tripdata_2018-07.csv\n",
      "gs://apache-beam-samples/nyc_taxi/2018/yellow_tripdata_2018-08.csv\n",
      "gs://apache-beam-samples/nyc_taxi/2018/yellow_tripdata_2018-09.csv\n",
      "gs://apache-beam-samples/nyc_taxi/2018/yellow_tripdata_2018-10.csv\n",
      "gs://apache-beam-samples/nyc_taxi/2018/yellow_tripdata_2018-11.csv\n",
      "gs://apache-beam-samples/nyc_taxi/2018/yellow_tripdata_2018-12.csv\n"
     ]
    }
   ],
   "source": [
    "!gsutil ls gs://apache-beam-samples/nyc_taxi/2018/*.csv"
   ]
  },
  {
   "cell_type": "code",
   "execution_count": 15,
   "id": "26bde107-285b-4c67-a696-f99379590a4d",
   "metadata": {},
   "outputs": [
    {
     "name": "stderr",
     "output_type": "stream",
     "text": [
      "WARNING:apache_beam.options.pipeline_options:Discarding unparseable args: ['-f', '/root/.local/share/jupyter/runtime/kernel-3b7d7b44-3d01-4bfe-8738-f4017a264ba5.json']\n"
     ]
    }
   ],
   "source": [
    "bdf = p | beam.dataframe.io.read_csv('gs://apache-beam-samples/nyc_taxi/2018/*.csv',\n",
    "                                     parse_dates=['tpep_pickup_datetime', 'tpep_dropoff_datetime'],\n",
    "                                     splittable=True)"
   ]
  },
  {
   "cell_type": "code",
   "execution_count": 16,
   "id": "79729922-4ecc-4c56-92b3-bb43ebc2ad71",
   "metadata": {},
   "outputs": [
    {
     "data": {
      "text/plain": [
       "VendorID                          int64\n",
       "tpep_pickup_datetime     datetime64[ns]\n",
       "tpep_dropoff_datetime    datetime64[ns]\n",
       "passenger_count                   int64\n",
       "trip_distance                   float64\n",
       "RatecodeID                        int64\n",
       "store_and_fwd_flag               object\n",
       "PULocationID                      int64\n",
       "DOLocationID                      int64\n",
       "payment_type                      int64\n",
       "fare_amount                     float64\n",
       "extra                           float64\n",
       "mta_tax                         float64\n",
       "tip_amount                      float64\n",
       "tolls_amount                    float64\n",
       "improvement_surcharge           float64\n",
       "total_amount                    float64\n",
       "dtype: object"
      ]
     },
     "execution_count": 16,
     "metadata": {},
     "output_type": "execute_result"
    }
   ],
   "source": [
    "bdf.dtypes"
   ]
  },
  {
   "cell_type": "code",
   "execution_count": 17,
   "id": "c22dc47f-b08e-4946-b411-3f187ed9e441",
   "metadata": {},
   "outputs": [
    {
     "data": {
      "text/plain": [
       "DeferredSeries(name='tip_ratio', dtype=float64, index='tpep_pickup_datetime')"
      ]
     },
     "execution_count": 17,
     "metadata": {},
     "output_type": "execute_result"
    }
   ],
   "source": [
    "tip_ratio = bdf.tip_amount/bdf.total_amount\n",
    "tip_ratio.name = 'tip_ratio'\n",
    "tip_ratio_by_pickup_hour = tip_ratio.groupby(bdf.tpep_pickup_datetime.dt.hour).mean()\n",
    "tip_ratio_by_pickup_hour"
   ]
  },
  {
   "cell_type": "code",
   "execution_count": 18,
   "id": "df2f8c6e-ee9f-48c5-9d87-89f5713ea83b",
   "metadata": {},
   "outputs": [
    {
     "data": {
      "text/plain": [
       "DeferredSeries(name='passenger_count', dtype=int64, index='tpep_pickup_datetime')"
      ]
     },
     "execution_count": 18,
     "metadata": {},
     "output_type": "execute_result"
    }
   ],
   "source": [
    "passengers_by_pickup_hour = bdf.passenger_count.groupby(bdf.tpep_pickup_datetime.dt.hour).sum()\n",
    "passengers_by_pickup_hour"
   ]
  },
  {
   "cell_type": "code",
   "execution_count": 19,
   "id": "9b86ca0e-6745-469f-b6c1-e9a3730858de",
   "metadata": {},
   "outputs": [
    {
     "name": "stderr",
     "output_type": "stream",
     "text": [
      "/root/apache-beam-2.37.0/lib/python3.7/site-packages/apache_beam/dataframe/io.py:632: FutureWarning: WriteToFiles is experimental.\n",
      "  sink=lambda _: _WriteToPandasFileSink(\n",
      "/root/apache-beam-2.37.0/lib/python3.7/site-packages/apache_beam/dataframe/io.py:632: FutureWarning: WriteToFiles is experimental.\n",
      "  sink=lambda _: _WriteToPandasFileSink(\n"
     ]
    },
    {
     "data": {
      "text/plain": [
       "<PCollection[[19]: WriteToPandas(df) - gs://bhulette-test/dataframe-result/passengers.csv/WriteToFiles/ParDo(_MoveTempFilesIntoFinalDestinationFn).None] at 0x7f9140b979d0>"
      ]
     },
     "execution_count": 19,
     "metadata": {},
     "output_type": "execute_result"
    }
   ],
   "source": [
    "tip_ratio_by_pickup_hour.to_csv(os.path.join(OUTPUT_DIR, \"tip_ratio.csv\"))\n",
    "passengers_by_pickup_hour.to_csv(os.path.join(OUTPUT_DIR, \"passengers.csv\"))"
   ]
  },
  {
   "cell_type": "code",
   "execution_count": 21,
   "id": "b48dd977-e42c-42f2-a367-cadc06973207",
   "metadata": {},
   "outputs": [
    {
     "name": "stderr",
     "output_type": "stream",
     "text": [
      "WARNING:root:Make sure that locally built Python SDK docker image has Python 3.7 interpreter.\n",
      "WARNING:apache_beam.options.pipeline_options:Discarding unparseable args: ['-f', '/root/.local/share/jupyter/runtime/kernel-3b7d7b44-3d01-4bfe-8738-f4017a264ba5.json']\n",
      "WARNING:apache_beam.options.pipeline_options:Discarding unparseable args: ['-f', '/root/.local/share/jupyter/runtime/kernel-3b7d7b44-3d01-4bfe-8738-f4017a264ba5.json']\n"
     ]
    },
    {
     "data": {
      "text/plain": [
       "'DONE'"
      ]
     },
     "execution_count": 21,
     "metadata": {},
     "output_type": "execute_result"
    }
   ],
   "source": [
    "p.run().wait_until_finish()"
   ]
  },
  {
   "cell_type": "code",
   "execution_count": 22,
   "id": "c48d219b-c071-4dc4-a7ff-f48bb2d0e185",
   "metadata": {},
   "outputs": [
    {
     "data": {
      "text/html": [
       "\n",
       "            <link rel=\"stylesheet\" href=\"https://stackpath.bootstrapcdn.com/bootstrap/4.4.1/css/bootstrap.min.css\" integrity=\"sha384-Vkoo8x4CGsO3+Hhxv8T/Q5PaXtkKtu6ug5TOeNV6gBiFeWPGFN9MuhOf23Q9Ifjh\" crossorigin=\"anonymous\">\n",
       "            <div id=\"progress_indicator_66cfef1823b132787f2dc371ab0cbbcd\" class=\"spinner-border text-info\" role=\"status\">\n",
       "            </div>"
      ],
      "text/plain": [
       "<IPython.core.display.HTML object>"
      ]
     },
     "metadata": {},
     "output_type": "display_data"
    },
    {
     "name": "stderr",
     "output_type": "stream",
     "text": [
      "WARNING:root:Make sure that locally built Python SDK docker image has Python 3.7 interpreter.\n"
     ]
    },
    {
     "data": {
      "application/javascript": [
       "\n",
       "        if (typeof window.interactive_beam_jquery == 'undefined') {\n",
       "          var jqueryScript = document.createElement('script');\n",
       "          jqueryScript.src = 'https://code.jquery.com/jquery-3.4.1.slim.min.js';\n",
       "          jqueryScript.type = 'text/javascript';\n",
       "          jqueryScript.onload = function() {\n",
       "            var datatableScript = document.createElement('script');\n",
       "            datatableScript.src = 'https://cdn.datatables.net/1.10.20/js/jquery.dataTables.min.js';\n",
       "            datatableScript.type = 'text/javascript';\n",
       "            datatableScript.onload = function() {\n",
       "              window.interactive_beam_jquery = jQuery.noConflict(true);\n",
       "              window.interactive_beam_jquery(document).ready(function($){\n",
       "                \n",
       "            $(\"#progress_indicator_66cfef1823b132787f2dc371ab0cbbcd\").remove();\n",
       "              });\n",
       "            }\n",
       "            document.head.appendChild(datatableScript);\n",
       "          };\n",
       "          document.head.appendChild(jqueryScript);\n",
       "        } else {\n",
       "          window.interactive_beam_jquery(document).ready(function($){\n",
       "            \n",
       "            $(\"#progress_indicator_66cfef1823b132787f2dc371ab0cbbcd\").remove();\n",
       "          });\n",
       "        }"
      ]
     },
     "metadata": {},
     "output_type": "display_data"
    },
    {
     "data": {
      "image/png": "[encoded data removed]",
      "text/plain": [
       "<Figure size 432x288 with 1 Axes>"
      ]
     },
     "metadata": {
      "needs_background": "light"
     },
     "output_type": "display_data"
    }
   ],
   "source": [
    "# Use interactive Beam + Beam DataFrames to read and plot the tip ratio result CSV \n",
    "p = beam.Pipeline(InteractiveRunner())\n",
    "bdf = p | beam.dataframe.io.read_csv(os.path.join(OUTPUT_DIR, \"tip_ratio*\"))\n",
    "fig = ib.collect(bdf.set_index('tpep_pickup_datetime')).sort_index().plot()"
   ]
  },
  {
   "cell_type": "code",
   "execution_count": 23,
   "id": "6a0af080-41da-45d2-a4ec-4ccc298a1469",
   "metadata": {},
   "outputs": [
    {
     "data": {
      "text/html": [
       "\n",
       "            <link rel=\"stylesheet\" href=\"https://stackpath.bootstrapcdn.com/bootstrap/4.4.1/css/bootstrap.min.css\" integrity=\"sha384-Vkoo8x4CGsO3+Hhxv8T/Q5PaXtkKtu6ug5TOeNV6gBiFeWPGFN9MuhOf23Q9Ifjh\" crossorigin=\"anonymous\">\n",
       "            <div id=\"progress_indicator_58cbf4897183ce234f4097d36dfaf574\" class=\"spinner-border text-info\" role=\"status\">\n",
       "            </div>"
      ],
      "text/plain": [
       "<IPython.core.display.HTML object>"
      ]
     },
     "metadata": {},
     "output_type": "display_data"
    },
    {
     "name": "stderr",
     "output_type": "stream",
     "text": [
      "WARNING:root:Make sure that locally built Python SDK docker image has Python 3.7 interpreter.\n"
     ]
    },
    {
     "data": {
      "application/javascript": [
       "\n",
       "        if (typeof window.interactive_beam_jquery == 'undefined') {\n",
       "          var jqueryScript = document.createElement('script');\n",
       "          jqueryScript.src = 'https://code.jquery.com/jquery-3.4.1.slim.min.js';\n",
       "          jqueryScript.type = 'text/javascript';\n",
       "          jqueryScript.onload = function() {\n",
       "            var datatableScript = document.createElement('script');\n",
       "            datatableScript.src = 'https://cdn.datatables.net/1.10.20/js/jquery.dataTables.min.js';\n",
       "            datatableScript.type = 'text/javascript';\n",
       "            datatableScript.onload = function() {\n",
       "              window.interactive_beam_jquery = jQuery.noConflict(true);\n",
       "              window.interactive_beam_jquery(document).ready(function($){\n",
       "                \n",
       "            $(\"#progress_indicator_58cbf4897183ce234f4097d36dfaf574\").remove();\n",
       "              });\n",
       "            }\n",
       "            document.head.appendChild(datatableScript);\n",
       "          };\n",
       "          document.head.appendChild(jqueryScript);\n",
       "        } else {\n",
       "          window.interactive_beam_jquery(document).ready(function($){\n",
       "            \n",
       "            $(\"#progress_indicator_58cbf4897183ce234f4097d36dfaf574\").remove();\n",
       "          });\n",
       "        }"
      ]
     },
     "metadata": {},
     "output_type": "display_data"
    },
    {
     "data": {
      "image/png": "[encoded data removed]",
      "text/plain": [
       "<Figure size 432x288 with 1 Axes>"
      ]
     },
     "metadata": {
      "needs_background": "light"
     },
     "output_type": "display_data"
    }
   ],
   "source": [
    "# Use interactive Beam + Beam DataFrames to read and plot the passenger count result CSV \n",
    "p = beam.Pipeline(InteractiveRunner())\n",
    "bdf = p | beam.dataframe.io.read_csv(os.path.join(OUTPUT_DIR, \"passengers*\"))\n",
    "fig = ib.collect(bdf.set_index('tpep_pickup_datetime')).sort_index().plot()"
   ]
  },
  {
   "cell_type": "markdown",
   "id": "a5ad051b-475a-4aff-9595-52a4b2a3836f",
   "metadata": {
    "tags": []
   },
   "source": [
    "# Differences from pandas\n",
    "\n",
    "While the Beam DataFrame API does support the vast majority of pandas operations, there are some operations in the pandas API that are difficult or impossible to implement faithfully in Beam (see the [documentation](https://beam.apache.org/documentation/dsls/dataframes/differences-from-pandas/) on this topic). We will always warn you about these operations. For example:"
   ]
  },
  {
   "cell_type": "code",
   "execution_count": 24,
   "id": "6e99cdaa-a18f-46ff-b20f-cc627b856979",
   "metadata": {},
   "outputs": [],
   "source": [
    "p = beam.Pipeline(InteractiveRunner())\n",
    "bdf = p | beam.dataframe.io.read_csv('gs://apache-beam-samples/nyc_taxi/2018/*.csv',\n",
    "                                     parse_dates=['tpep_pickup_datetime', 'tpep_dropoff_datetime'],\n",
    "                                     splittable=True)"
   ]
  },
  {
   "cell_type": "code",
   "execution_count": 25,
   "id": "4898850b-a4e9-416b-bfe9-b0887c4ad685",
   "metadata": {},
   "outputs": [
    {
     "ename": "NonParallelOperation",
     "evalue": "(NonParallelOperation(...), \"mode cannot currently be parallelized. See BEAM-12181 tracking the possble addition of an approximate, parallelizable implementation of mode.\\nConsider using an allow_non_parallel_operations block if you're sure you want to do this. See https://s.apache.org/dataframe-non-parallel-operations for more information.\")",
     "output_type": "error",
     "traceback": [
      "\u001b[0;31m\u001b[0m",
      "\u001b[0;31mNonParallelOperation\u001b[0mTraceback (most recent call last)",
      "\u001b[0;32m<ipython-input-25-f032c96af300>\u001b[0m in \u001b[0;36m<module>\u001b[0;34m\u001b[0m\n\u001b[1;32m      1\u001b[0m \u001b[0;31m# Non-parallelizable operation\u001b[0m\u001b[0;34m\u001b[0m\u001b[0;34m\u001b[0m\u001b[0;34m\u001b[0m\u001b[0m\n\u001b[0;32m----> 2\u001b[0;31m \u001b[0mpassenger_mode\u001b[0m \u001b[0;34m=\u001b[0m \u001b[0mbdf\u001b[0m\u001b[0;34m.\u001b[0m\u001b[0mpassenger_count\u001b[0m\u001b[0;34m.\u001b[0m\u001b[0mmode\u001b[0m\u001b[0;34m(\u001b[0m\u001b[0;34m)\u001b[0m\u001b[0;34m\u001b[0m\u001b[0;34m\u001b[0m\u001b[0m\n\u001b[0m",
      "\u001b[0;32m~/apache-beam-2.37.0/lib/python3.7/site-packages/apache_beam/dataframe/frames.py\u001b[0m in \u001b[0;36mmode\u001b[0;34m(self, *args, **kwargs)\u001b[0m\n\u001b[1;32m   2272\u001b[0m                     \u001b[0;34m\"BEAM-12181 tracking the possble addition of \"\u001b[0m\u001b[0;34m\u001b[0m\u001b[0;34m\u001b[0m\u001b[0m\n\u001b[1;32m   2273\u001b[0m                     \"an approximate, parallelizable implementation of mode.\")),\n\u001b[0;32m-> 2274\u001b[0;31m             preserves_partition_by=partitionings.Singleton()))\n\u001b[0m\u001b[1;32m   2275\u001b[0m \u001b[0;34m\u001b[0m\u001b[0m\n\u001b[1;32m   2276\u001b[0m   \u001b[0mapply\u001b[0m \u001b[0;34m=\u001b[0m \u001b[0mframe_base\u001b[0m\u001b[0;34m.\u001b[0m\u001b[0m_elementwise_method\u001b[0m\u001b[0;34m(\u001b[0m\u001b[0;34m'apply'\u001b[0m\u001b[0;34m,\u001b[0m \u001b[0mbase\u001b[0m\u001b[0;34m=\u001b[0m\u001b[0mpd\u001b[0m\u001b[0;34m.\u001b[0m\u001b[0mSeries\u001b[0m\u001b[0;34m)\u001b[0m\u001b[0;34m\u001b[0m\u001b[0;34m\u001b[0m\u001b[0m\n",
      "\u001b[0;32m~/apache-beam-2.37.0/lib/python3.7/site-packages/apache_beam/dataframe/expressions.py\u001b[0m in \u001b[0;36m__init__\u001b[0;34m(self, name, func, args, proxy, _id, requires_partition_by, preserves_partition_by)\u001b[0m\n\u001b[1;32m    351\u001b[0m \u001b[0;34m\u001b[0m\u001b[0m\n\u001b[1;32m    352\u001b[0m       raise NonParallelOperation(\n\u001b[0;32m--> 353\u001b[0;31m           \u001b[0;34mf\"{reason}\\n\"\u001b[0m\u001b[0;34m\u001b[0m\u001b[0;34m\u001b[0m\u001b[0m\n\u001b[0m\u001b[1;32m    354\u001b[0m           \u001b[0;34m\"Consider using an allow_non_parallel_operations block if you're \"\u001b[0m\u001b[0;34m\u001b[0m\u001b[0;34m\u001b[0m\u001b[0m\n\u001b[1;32m    355\u001b[0m           \u001b[0;34m\"sure you want to do this. See \"\u001b[0m\u001b[0;34m\u001b[0m\u001b[0;34m\u001b[0m\u001b[0m\n",
      "\u001b[0;31mNonParallelOperation\u001b[0m: (NonParallelOperation(...), \"mode cannot currently be parallelized. See BEAM-12181 tracking the possble addition of an approximate, parallelizable implementation of mode.\\nConsider using an allow_non_parallel_operations block if you're sure you want to do this. See https://s.apache.org/dataframe-non-parallel-operations for more information.\")"
     ]
    }
   ],
   "source": [
    "# Non-parallelizable operation\n",
    "passenger_mode = bdf.passenger_count.mode()"
   ]
  },
  {
   "cell_type": "code",
   "execution_count": 26,
   "id": "cf750e64-3964-45cf-bc35-f9b8b0354c10",
   "metadata": {},
   "outputs": [],
   "source": [
    "# opt-in to collecting the dataset on the single node (for example, if you know it's been aggregated and is small enough)\n",
    "with beam.dataframe.allow_non_parallel_operations():\n",
    "    passenger_mode = bdf.passenger_count.mode()"
   ]
  },
  {
   "cell_type": "code",
   "execution_count": 27,
   "id": "ea67abe9-072b-4618-a41f-9210ab1d7dac",
   "metadata": {},
   "outputs": [
    {
     "ename": "WontImplementError",
     "evalue": "'diff' is not yet supported because it is sensitive to the order of the data.\nFor more information see https://s.apache.org/dataframe-order-sensitive-operations.",
     "output_type": "error",
     "traceback": [
      "\u001b[0;31m\u001b[0m",
      "\u001b[0;31mWontImplementError\u001b[0mTraceback (most recent call last)",
      "\u001b[0;32m<ipython-input-27-4b2b84aeda0b>\u001b[0m in \u001b[0;36m<module>\u001b[0;34m\u001b[0m\n\u001b[1;32m      1\u001b[0m \u001b[0;31m# Order-sensitive operation\u001b[0m\u001b[0;34m\u001b[0m\u001b[0;34m\u001b[0m\u001b[0;34m\u001b[0m\u001b[0m\n\u001b[0;32m----> 2\u001b[0;31m \u001b[0mbdf\u001b[0m\u001b[0;34m.\u001b[0m\u001b[0mpassenger_count\u001b[0m\u001b[0;34m.\u001b[0m\u001b[0mdiff\u001b[0m\u001b[0;34m(\u001b[0m\u001b[0;34m)\u001b[0m\u001b[0;34m\u001b[0m\u001b[0;34m\u001b[0m\u001b[0m\n\u001b[0m",
      "\u001b[0;32m~/apache-beam-2.37.0/lib/python3.7/site-packages/apache_beam/dataframe/frame_base.py\u001b[0m in \u001b[0;36mwrapper\u001b[0;34m(*args, **kwargs)\u001b[0m\n\u001b[1;32m    367\u001b[0m     raise WontImplementError(\n\u001b[1;32m    368\u001b[0m         \u001b[0;34mf\"'{name}' is not yet supported {reason_data['explanation']}\"\u001b[0m\u001b[0;34m,\u001b[0m\u001b[0;34m\u001b[0m\u001b[0;34m\u001b[0m\u001b[0m\n\u001b[0;32m--> 369\u001b[0;31m         reason=reason)\n\u001b[0m\u001b[1;32m    370\u001b[0m \u001b[0;34m\u001b[0m\u001b[0m\n\u001b[1;32m    371\u001b[0m   \u001b[0mwrapper\u001b[0m\u001b[0;34m.\u001b[0m\u001b[0m__name__\u001b[0m \u001b[0;34m=\u001b[0m \u001b[0mname\u001b[0m\u001b[0;34m\u001b[0m\u001b[0;34m\u001b[0m\u001b[0m\n",
      "\u001b[0;31mWontImplementError\u001b[0m: 'diff' is not yet supported because it is sensitive to the order of the data.\nFor more information see https://s.apache.org/dataframe-order-sensitive-operations."
     ]
    }
   ],
   "source": [
    "# Order-sensitive operation\n",
    "bdf.passenger_count.diff()"
   ]
  },
  {
   "cell_type": "code",
   "execution_count": 28,
   "id": "ab561a0a-a383-4b0e-92c1-9452e5d6232e",
   "metadata": {},
   "outputs": [
    {
     "ename": "WontImplementError",
     "evalue": "'plot' is not yet supported because it is a plotting tool.\nFor more information see https://s.apache.org/dataframe-plotting-tools.",
     "output_type": "error",
     "traceback": [
      "\u001b[0;31m\u001b[0m",
      "\u001b[0;31mWontImplementError\u001b[0mTraceback (most recent call last)",
      "\u001b[0;32m<ipython-input-28-09807c5a5733>\u001b[0m in \u001b[0;36m<module>\u001b[0;34m\u001b[0m\n\u001b[1;32m      1\u001b[0m \u001b[0mpassengers_by_pickup_hour\u001b[0m \u001b[0;34m=\u001b[0m \u001b[0mbdf\u001b[0m\u001b[0;34m.\u001b[0m\u001b[0mpassenger_count\u001b[0m\u001b[0;34m.\u001b[0m\u001b[0mgroupby\u001b[0m\u001b[0;34m(\u001b[0m\u001b[0mbdf\u001b[0m\u001b[0;34m.\u001b[0m\u001b[0mtpep_pickup_datetime\u001b[0m\u001b[0;34m.\u001b[0m\u001b[0mdt\u001b[0m\u001b[0;34m.\u001b[0m\u001b[0mhour\u001b[0m\u001b[0;34m)\u001b[0m\u001b[0;34m.\u001b[0m\u001b[0msum\u001b[0m\u001b[0;34m(\u001b[0m\u001b[0;34m)\u001b[0m\u001b[0;34m\u001b[0m\u001b[0;34m\u001b[0m\u001b[0m\n\u001b[1;32m      2\u001b[0m \u001b[0;34m\u001b[0m\u001b[0m\n\u001b[0;32m----> 3\u001b[0;31m \u001b[0mpassengers_by_pickup_hour\u001b[0m\u001b[0;34m.\u001b[0m\u001b[0mplot\u001b[0m\u001b[0;34m(\u001b[0m\u001b[0;34m)\u001b[0m\u001b[0;34m\u001b[0m\u001b[0;34m\u001b[0m\u001b[0m\n\u001b[0m",
      "\u001b[0;32m~/apache-beam-2.37.0/lib/python3.7/site-packages/apache_beam/dataframe/frame_base.py\u001b[0m in \u001b[0;36mwrapper\u001b[0;34m(*args, **kwargs)\u001b[0m\n\u001b[1;32m    367\u001b[0m     raise WontImplementError(\n\u001b[1;32m    368\u001b[0m         \u001b[0;34mf\"'{name}' is not yet supported {reason_data['explanation']}\"\u001b[0m\u001b[0;34m,\u001b[0m\u001b[0;34m\u001b[0m\u001b[0;34m\u001b[0m\u001b[0m\n\u001b[0;32m--> 369\u001b[0;31m         reason=reason)\n\u001b[0m\u001b[1;32m    370\u001b[0m \u001b[0;34m\u001b[0m\u001b[0m\n\u001b[1;32m    371\u001b[0m   \u001b[0mwrapper\u001b[0m\u001b[0;34m.\u001b[0m\u001b[0m__name__\u001b[0m \u001b[0;34m=\u001b[0m \u001b[0mname\u001b[0m\u001b[0;34m\u001b[0m\u001b[0;34m\u001b[0m\u001b[0m\n",
      "\u001b[0;31mWontImplementError\u001b[0m: 'plot' is not yet supported because it is a plotting tool.\nFor more information see https://s.apache.org/dataframe-plotting-tools."
     ]
    }
   ],
   "source": [
    "passengers_by_pickup_hour = bdf.passenger_count.groupby(bdf.tpep_pickup_datetime.dt.hour).sum()\n",
    "\n",
    "passengers_by_pickup_hour.plot()"
   ]
  },
  {
   "cell_type": "code",
   "execution_count": null,
   "id": "dcf6cbc0-6cfe-4d9b-b5f3-49ff8bdbff59",
   "metadata": {},
   "outputs": [],
   "source": []
  }
 ],
 "metadata": {
  "kernelspec": {
   "display_name": "01. Apache Beam 2.37.0 for Python 3",
   "language": "python",
   "name": "01-apache-beam-2.37.0"
  },
  "language_info": {
   "codemirror_mode": {
    "name": "ipython",
    "version": 3
   },
   "file_extension": ".py",
   "mimetype": "text/x-python",
   "name": "python",
   "nbconvert_exporter": "python",
   "pygments_lexer": "ipython3",
   "version": "3.7.12"
  }
 },
 "nbformat": 4,
 "nbformat_minor": 5
}
